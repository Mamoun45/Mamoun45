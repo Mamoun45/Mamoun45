{
  "nbformat": 4,
  "nbformat_minor": 0,
  "metadata": {
    "colab": {
      "provenance": [],
      "authorship_tag": "ABX9TyPFjnuB/c8aAwBEFPGe2D0g",
      "include_colab_link": true
    },
    "kernelspec": {
      "name": "python3",
      "display_name": "Python 3"
    },
    "language_info": {
      "name": "python"
    }
  },
  "cells": [
    {
      "cell_type": "markdown",
      "metadata": {
        "id": "view-in-github",
        "colab_type": "text"
      },
      "source": [
        "<a href=\"https://colab.research.google.com/github/Mamoun45/Mamoun45/blob/main/digit_clustering.ipynb\" target=\"_parent\"><img src=\"https://colab.research.google.com/assets/colab-badge.svg\" alt=\"Open In Colab\"/></a>"
      ]
    },
    {
      "cell_type": "code",
      "execution_count": 3,
      "metadata": {
        "id": "yftFTPhAtfzS"
      },
      "outputs": [],
      "source": [
        "import pandas as pd\n",
        "from sklearn.cluster import KMeans\n",
        "import matplotlib.pyplot as plt\n",
        "from sklearn.preprocessing import StandardScaler"
      ]
    },
    {
      "cell_type": "code",
      "source": [
        "dataset = pd.read_csv('/content/data.csv')"
      ],
      "metadata": {
        "id": "lin3UVmatsuj"
      },
      "execution_count": 4,
      "outputs": []
    },
    {
      "cell_type": "code",
      "source": [
        "dataset.head()"
      ],
      "metadata": {
        "id": "v6DShLoMvmhM",
        "colab": {
          "base_uri": "https://localhost:8080/",
          "height": 236
        },
        "outputId": "a6722ae1-436c-48a2-c742-dd2be4eef96f"
      },
      "execution_count": 5,
      "outputs": [
        {
          "output_type": "execute_result",
          "data": {
            "text/plain": [
              "   ID  pixel0  pixel1  pixel2  pixel3  pixel4  pixel5  pixel6  pixel7  pixel8  \\\n",
              "0   1       0       0       0       0       0       0       0       0       0   \n",
              "1   2       0       0       0       0       0       0       0       0       0   \n",
              "2   3       0       0       0       0       0       0       0       0       0   \n",
              "3   4       0       0       0       0       0       0       0       0       0   \n",
              "4   5       0       0       0       0       0       0       0       0       0   \n",
              "\n",
              "   ...  pixel774  pixel775  pixel776  pixel777  pixel778  pixel779  pixel780  \\\n",
              "0  ...         0         0         0         0         0         0         0   \n",
              "1  ...         0         0         0         0         0         0         0   \n",
              "2  ...         0         0         0         0         0         0         0   \n",
              "3  ...         0         0         0         0         0         0         0   \n",
              "4  ...         0         0         0         0         0         0         0   \n",
              "\n",
              "   pixel781  pixel782  pixel783  \n",
              "0         0         0         0  \n",
              "1         0         0         0  \n",
              "2         0         0         0  \n",
              "3         0         0         0  \n",
              "4         0         0         0  \n",
              "\n",
              "[5 rows x 785 columns]"
            ],
            "text/html": [
              "\n",
              "  <div id=\"df-1a43dafc-d0a5-4d45-be2b-a158ce4418ee\" class=\"colab-df-container\">\n",
              "    <div>\n",
              "<style scoped>\n",
              "    .dataframe tbody tr th:only-of-type {\n",
              "        vertical-align: middle;\n",
              "    }\n",
              "\n",
              "    .dataframe tbody tr th {\n",
              "        vertical-align: top;\n",
              "    }\n",
              "\n",
              "    .dataframe thead th {\n",
              "        text-align: right;\n",
              "    }\n",
              "</style>\n",
              "<table border=\"1\" class=\"dataframe\">\n",
              "  <thead>\n",
              "    <tr style=\"text-align: right;\">\n",
              "      <th></th>\n",
              "      <th>ID</th>\n",
              "      <th>pixel0</th>\n",
              "      <th>pixel1</th>\n",
              "      <th>pixel2</th>\n",
              "      <th>pixel3</th>\n",
              "      <th>pixel4</th>\n",
              "      <th>pixel5</th>\n",
              "      <th>pixel6</th>\n",
              "      <th>pixel7</th>\n",
              "      <th>pixel8</th>\n",
              "      <th>...</th>\n",
              "      <th>pixel774</th>\n",
              "      <th>pixel775</th>\n",
              "      <th>pixel776</th>\n",
              "      <th>pixel777</th>\n",
              "      <th>pixel778</th>\n",
              "      <th>pixel779</th>\n",
              "      <th>pixel780</th>\n",
              "      <th>pixel781</th>\n",
              "      <th>pixel782</th>\n",
              "      <th>pixel783</th>\n",
              "    </tr>\n",
              "  </thead>\n",
              "  <tbody>\n",
              "    <tr>\n",
              "      <th>0</th>\n",
              "      <td>1</td>\n",
              "      <td>0</td>\n",
              "      <td>0</td>\n",
              "      <td>0</td>\n",
              "      <td>0</td>\n",
              "      <td>0</td>\n",
              "      <td>0</td>\n",
              "      <td>0</td>\n",
              "      <td>0</td>\n",
              "      <td>0</td>\n",
              "      <td>...</td>\n",
              "      <td>0</td>\n",
              "      <td>0</td>\n",
              "      <td>0</td>\n",
              "      <td>0</td>\n",
              "      <td>0</td>\n",
              "      <td>0</td>\n",
              "      <td>0</td>\n",
              "      <td>0</td>\n",
              "      <td>0</td>\n",
              "      <td>0</td>\n",
              "    </tr>\n",
              "    <tr>\n",
              "      <th>1</th>\n",
              "      <td>2</td>\n",
              "      <td>0</td>\n",
              "      <td>0</td>\n",
              "      <td>0</td>\n",
              "      <td>0</td>\n",
              "      <td>0</td>\n",
              "      <td>0</td>\n",
              "      <td>0</td>\n",
              "      <td>0</td>\n",
              "      <td>0</td>\n",
              "      <td>...</td>\n",
              "      <td>0</td>\n",
              "      <td>0</td>\n",
              "      <td>0</td>\n",
              "      <td>0</td>\n",
              "      <td>0</td>\n",
              "      <td>0</td>\n",
              "      <td>0</td>\n",
              "      <td>0</td>\n",
              "      <td>0</td>\n",
              "      <td>0</td>\n",
              "    </tr>\n",
              "    <tr>\n",
              "      <th>2</th>\n",
              "      <td>3</td>\n",
              "      <td>0</td>\n",
              "      <td>0</td>\n",
              "      <td>0</td>\n",
              "      <td>0</td>\n",
              "      <td>0</td>\n",
              "      <td>0</td>\n",
              "      <td>0</td>\n",
              "      <td>0</td>\n",
              "      <td>0</td>\n",
              "      <td>...</td>\n",
              "      <td>0</td>\n",
              "      <td>0</td>\n",
              "      <td>0</td>\n",
              "      <td>0</td>\n",
              "      <td>0</td>\n",
              "      <td>0</td>\n",
              "      <td>0</td>\n",
              "      <td>0</td>\n",
              "      <td>0</td>\n",
              "      <td>0</td>\n",
              "    </tr>\n",
              "    <tr>\n",
              "      <th>3</th>\n",
              "      <td>4</td>\n",
              "      <td>0</td>\n",
              "      <td>0</td>\n",
              "      <td>0</td>\n",
              "      <td>0</td>\n",
              "      <td>0</td>\n",
              "      <td>0</td>\n",
              "      <td>0</td>\n",
              "      <td>0</td>\n",
              "      <td>0</td>\n",
              "      <td>...</td>\n",
              "      <td>0</td>\n",
              "      <td>0</td>\n",
              "      <td>0</td>\n",
              "      <td>0</td>\n",
              "      <td>0</td>\n",
              "      <td>0</td>\n",
              "      <td>0</td>\n",
              "      <td>0</td>\n",
              "      <td>0</td>\n",
              "      <td>0</td>\n",
              "    </tr>\n",
              "    <tr>\n",
              "      <th>4</th>\n",
              "      <td>5</td>\n",
              "      <td>0</td>\n",
              "      <td>0</td>\n",
              "      <td>0</td>\n",
              "      <td>0</td>\n",
              "      <td>0</td>\n",
              "      <td>0</td>\n",
              "      <td>0</td>\n",
              "      <td>0</td>\n",
              "      <td>0</td>\n",
              "      <td>...</td>\n",
              "      <td>0</td>\n",
              "      <td>0</td>\n",
              "      <td>0</td>\n",
              "      <td>0</td>\n",
              "      <td>0</td>\n",
              "      <td>0</td>\n",
              "      <td>0</td>\n",
              "      <td>0</td>\n",
              "      <td>0</td>\n",
              "      <td>0</td>\n",
              "    </tr>\n",
              "  </tbody>\n",
              "</table>\n",
              "<p>5 rows × 785 columns</p>\n",
              "</div>\n",
              "    <div class=\"colab-df-buttons\">\n",
              "\n",
              "  <div class=\"colab-df-container\">\n",
              "    <button class=\"colab-df-convert\" onclick=\"convertToInteractive('df-1a43dafc-d0a5-4d45-be2b-a158ce4418ee')\"\n",
              "            title=\"Convert this dataframe to an interactive table.\"\n",
              "            style=\"display:none;\">\n",
              "\n",
              "  <svg xmlns=\"http://www.w3.org/2000/svg\" height=\"24px\" viewBox=\"0 -960 960 960\">\n",
              "    <path d=\"M120-120v-720h720v720H120Zm60-500h600v-160H180v160Zm220 220h160v-160H400v160Zm0 220h160v-160H400v160ZM180-400h160v-160H180v160Zm440 0h160v-160H620v160ZM180-180h160v-160H180v160Zm440 0h160v-160H620v160Z\"/>\n",
              "  </svg>\n",
              "    </button>\n",
              "\n",
              "  <style>\n",
              "    .colab-df-container {\n",
              "      display:flex;\n",
              "      gap: 12px;\n",
              "    }\n",
              "\n",
              "    .colab-df-convert {\n",
              "      background-color: #E8F0FE;\n",
              "      border: none;\n",
              "      border-radius: 50%;\n",
              "      cursor: pointer;\n",
              "      display: none;\n",
              "      fill: #1967D2;\n",
              "      height: 32px;\n",
              "      padding: 0 0 0 0;\n",
              "      width: 32px;\n",
              "    }\n",
              "\n",
              "    .colab-df-convert:hover {\n",
              "      background-color: #E2EBFA;\n",
              "      box-shadow: 0px 1px 2px rgba(60, 64, 67, 0.3), 0px 1px 3px 1px rgba(60, 64, 67, 0.15);\n",
              "      fill: #174EA6;\n",
              "    }\n",
              "\n",
              "    .colab-df-buttons div {\n",
              "      margin-bottom: 4px;\n",
              "    }\n",
              "\n",
              "    [theme=dark] .colab-df-convert {\n",
              "      background-color: #3B4455;\n",
              "      fill: #D2E3FC;\n",
              "    }\n",
              "\n",
              "    [theme=dark] .colab-df-convert:hover {\n",
              "      background-color: #434B5C;\n",
              "      box-shadow: 0px 1px 3px 1px rgba(0, 0, 0, 0.15);\n",
              "      filter: drop-shadow(0px 1px 2px rgba(0, 0, 0, 0.3));\n",
              "      fill: #FFFFFF;\n",
              "    }\n",
              "  </style>\n",
              "\n",
              "    <script>\n",
              "      const buttonEl =\n",
              "        document.querySelector('#df-1a43dafc-d0a5-4d45-be2b-a158ce4418ee button.colab-df-convert');\n",
              "      buttonEl.style.display =\n",
              "        google.colab.kernel.accessAllowed ? 'block' : 'none';\n",
              "\n",
              "      async function convertToInteractive(key) {\n",
              "        const element = document.querySelector('#df-1a43dafc-d0a5-4d45-be2b-a158ce4418ee');\n",
              "        const dataTable =\n",
              "          await google.colab.kernel.invokeFunction('convertToInteractive',\n",
              "                                                    [key], {});\n",
              "        if (!dataTable) return;\n",
              "\n",
              "        const docLinkHtml = 'Like what you see? Visit the ' +\n",
              "          '<a target=\"_blank\" href=https://colab.research.google.com/notebooks/data_table.ipynb>data table notebook</a>'\n",
              "          + ' to learn more about interactive tables.';\n",
              "        element.innerHTML = '';\n",
              "        dataTable['output_type'] = 'display_data';\n",
              "        await google.colab.output.renderOutput(dataTable, element);\n",
              "        const docLink = document.createElement('div');\n",
              "        docLink.innerHTML = docLinkHtml;\n",
              "        element.appendChild(docLink);\n",
              "      }\n",
              "    </script>\n",
              "  </div>\n",
              "\n",
              "\n",
              "<div id=\"df-259c263f-ffeb-4366-929c-53402f221a73\">\n",
              "  <button class=\"colab-df-quickchart\" onclick=\"quickchart('df-259c263f-ffeb-4366-929c-53402f221a73')\"\n",
              "            title=\"Suggest charts\"\n",
              "            style=\"display:none;\">\n",
              "\n",
              "<svg xmlns=\"http://www.w3.org/2000/svg\" height=\"24px\"viewBox=\"0 0 24 24\"\n",
              "     width=\"24px\">\n",
              "    <g>\n",
              "        <path d=\"M19 3H5c-1.1 0-2 .9-2 2v14c0 1.1.9 2 2 2h14c1.1 0 2-.9 2-2V5c0-1.1-.9-2-2-2zM9 17H7v-7h2v7zm4 0h-2V7h2v10zm4 0h-2v-4h2v4z\"/>\n",
              "    </g>\n",
              "</svg>\n",
              "  </button>\n",
              "\n",
              "<style>\n",
              "  .colab-df-quickchart {\n",
              "      --bg-color: #E8F0FE;\n",
              "      --fill-color: #1967D2;\n",
              "      --hover-bg-color: #E2EBFA;\n",
              "      --hover-fill-color: #174EA6;\n",
              "      --disabled-fill-color: #AAA;\n",
              "      --disabled-bg-color: #DDD;\n",
              "  }\n",
              "\n",
              "  [theme=dark] .colab-df-quickchart {\n",
              "      --bg-color: #3B4455;\n",
              "      --fill-color: #D2E3FC;\n",
              "      --hover-bg-color: #434B5C;\n",
              "      --hover-fill-color: #FFFFFF;\n",
              "      --disabled-bg-color: #3B4455;\n",
              "      --disabled-fill-color: #666;\n",
              "  }\n",
              "\n",
              "  .colab-df-quickchart {\n",
              "    background-color: var(--bg-color);\n",
              "    border: none;\n",
              "    border-radius: 50%;\n",
              "    cursor: pointer;\n",
              "    display: none;\n",
              "    fill: var(--fill-color);\n",
              "    height: 32px;\n",
              "    padding: 0;\n",
              "    width: 32px;\n",
              "  }\n",
              "\n",
              "  .colab-df-quickchart:hover {\n",
              "    background-color: var(--hover-bg-color);\n",
              "    box-shadow: 0 1px 2px rgba(60, 64, 67, 0.3), 0 1px 3px 1px rgba(60, 64, 67, 0.15);\n",
              "    fill: var(--button-hover-fill-color);\n",
              "  }\n",
              "\n",
              "  .colab-df-quickchart-complete:disabled,\n",
              "  .colab-df-quickchart-complete:disabled:hover {\n",
              "    background-color: var(--disabled-bg-color);\n",
              "    fill: var(--disabled-fill-color);\n",
              "    box-shadow: none;\n",
              "  }\n",
              "\n",
              "  .colab-df-spinner {\n",
              "    border: 2px solid var(--fill-color);\n",
              "    border-color: transparent;\n",
              "    border-bottom-color: var(--fill-color);\n",
              "    animation:\n",
              "      spin 1s steps(1) infinite;\n",
              "  }\n",
              "\n",
              "  @keyframes spin {\n",
              "    0% {\n",
              "      border-color: transparent;\n",
              "      border-bottom-color: var(--fill-color);\n",
              "      border-left-color: var(--fill-color);\n",
              "    }\n",
              "    20% {\n",
              "      border-color: transparent;\n",
              "      border-left-color: var(--fill-color);\n",
              "      border-top-color: var(--fill-color);\n",
              "    }\n",
              "    30% {\n",
              "      border-color: transparent;\n",
              "      border-left-color: var(--fill-color);\n",
              "      border-top-color: var(--fill-color);\n",
              "      border-right-color: var(--fill-color);\n",
              "    }\n",
              "    40% {\n",
              "      border-color: transparent;\n",
              "      border-right-color: var(--fill-color);\n",
              "      border-top-color: var(--fill-color);\n",
              "    }\n",
              "    60% {\n",
              "      border-color: transparent;\n",
              "      border-right-color: var(--fill-color);\n",
              "    }\n",
              "    80% {\n",
              "      border-color: transparent;\n",
              "      border-right-color: var(--fill-color);\n",
              "      border-bottom-color: var(--fill-color);\n",
              "    }\n",
              "    90% {\n",
              "      border-color: transparent;\n",
              "      border-bottom-color: var(--fill-color);\n",
              "    }\n",
              "  }\n",
              "</style>\n",
              "\n",
              "  <script>\n",
              "    async function quickchart(key) {\n",
              "      const quickchartButtonEl =\n",
              "        document.querySelector('#' + key + ' button');\n",
              "      quickchartButtonEl.disabled = true;  // To prevent multiple clicks.\n",
              "      quickchartButtonEl.classList.add('colab-df-spinner');\n",
              "      try {\n",
              "        const charts = await google.colab.kernel.invokeFunction(\n",
              "            'suggestCharts', [key], {});\n",
              "      } catch (error) {\n",
              "        console.error('Error during call to suggestCharts:', error);\n",
              "      }\n",
              "      quickchartButtonEl.classList.remove('colab-df-spinner');\n",
              "      quickchartButtonEl.classList.add('colab-df-quickchart-complete');\n",
              "    }\n",
              "    (() => {\n",
              "      let quickchartButtonEl =\n",
              "        document.querySelector('#df-259c263f-ffeb-4366-929c-53402f221a73 button');\n",
              "      quickchartButtonEl.style.display =\n",
              "        google.colab.kernel.accessAllowed ? 'block' : 'none';\n",
              "    })();\n",
              "  </script>\n",
              "</div>\n",
              "\n",
              "    </div>\n",
              "  </div>\n"
            ],
            "application/vnd.google.colaboratory.intrinsic+json": {
              "type": "dataframe",
              "variable_name": "dataset"
            }
          },
          "metadata": {},
          "execution_count": 5
        }
      ]
    },
    {
      "cell_type": "code",
      "source": [
        "dataset.shape"
      ],
      "metadata": {
        "id": "cIT8Jpyovufn",
        "colab": {
          "base_uri": "https://localhost:8080/"
        },
        "outputId": "7e7fb1de-2b13-4d1e-cd6b-95761b59da9e"
      },
      "execution_count": 6,
      "outputs": [
        {
          "output_type": "execute_result",
          "data": {
            "text/plain": [
              "(999, 785)"
            ]
          },
          "metadata": {},
          "execution_count": 6
        }
      ]
    },
    {
      "cell_type": "code",
      "source": [
        "dataset.info()"
      ],
      "metadata": {
        "id": "pLJbIgBJwCvY",
        "colab": {
          "base_uri": "https://localhost:8080/"
        },
        "outputId": "1adaf928-848a-4b37-ad03-1d623fe53597"
      },
      "execution_count": 7,
      "outputs": [
        {
          "output_type": "stream",
          "name": "stdout",
          "text": [
            "<class 'pandas.core.frame.DataFrame'>\n",
            "RangeIndex: 999 entries, 0 to 998\n",
            "Columns: 785 entries, ID to pixel783\n",
            "dtypes: int64(785)\n",
            "memory usage: 6.0 MB\n"
          ]
        }
      ]
    },
    {
      "cell_type": "code",
      "source": [
        "dataset.isna().sum()"
      ],
      "metadata": {
        "id": "XF9hC2BCwPoQ",
        "colab": {
          "base_uri": "https://localhost:8080/"
        },
        "outputId": "306c42e2-67d9-4e69-bbe9-1e402ee990a1"
      },
      "execution_count": 8,
      "outputs": [
        {
          "output_type": "execute_result",
          "data": {
            "text/plain": [
              "ID          0\n",
              "pixel0      0\n",
              "pixel1      0\n",
              "pixel2      0\n",
              "pixel3      0\n",
              "           ..\n",
              "pixel779    0\n",
              "pixel780    0\n",
              "pixel781    0\n",
              "pixel782    0\n",
              "pixel783    0\n",
              "Length: 785, dtype: int64"
            ]
          },
          "metadata": {},
          "execution_count": 8
        }
      ]
    },
    {
      "cell_type": "code",
      "source": [
        "x = dataset['ID']\n",
        "dataset.drop( 'ID' , axis=1, inplace=True)"
      ],
      "metadata": {
        "id": "yTvOzkqPwjeS"
      },
      "execution_count": 9,
      "outputs": []
    },
    {
      "cell_type": "code",
      "source": [
        "scaler = StandardScaler()\n",
        "\n",
        "scaler.fit(dataset)\n",
        "\n",
        "scaled_data = scaler.transform(dataset)"
      ],
      "metadata": {
        "id": "Zv1Fi1awwjg4"
      },
      "execution_count": 10,
      "outputs": []
    },
    {
      "cell_type": "code",
      "source": [
        "kmeansmodel = KMeans(n_clusters=19, random_state=40)\n",
        "y_kmeans = kmeansmodel.fit_predict(dataset)\n",
        "y_kmeans"
      ],
      "metadata": {
        "id": "IJsAurxjAJWJ",
        "colab": {
          "base_uri": "https://localhost:8080/"
        },
        "outputId": "84911700-e3b8-463c-9e81-4bd577569ac9"
      },
      "execution_count": 11,
      "outputs": [
        {
          "output_type": "stream",
          "name": "stderr",
          "text": [
            "/usr/local/lib/python3.10/dist-packages/sklearn/cluster/_kmeans.py:870: FutureWarning: The default value of `n_init` will change from 10 to 'auto' in 1.4. Set the value of `n_init` explicitly to suppress the warning\n",
            "  warnings.warn(\n"
          ]
        },
        {
          "output_type": "execute_result",
          "data": {
            "text/plain": [
              "array([16,  9, 18,  2,  9, 13, 15, 12, 17, 10,  7,  4, 18,  3, 12, 18,  3,\n",
              "        0,  4,  3,  7,  8, 10,  9,  3, 12,  5,  4, 15,  6,  7,  2, 11, 11,\n",
              "        5, 18, 12, 18, 16, 11, 12, 18,  2, 15, 18,  8, 12, 15,  4, 11, 15,\n",
              "        3, 18,  2,  9, 18, 10, 12,  4, 18, 18, 16,  6,  0,  5, 12,  2,  3,\n",
              "       16, 13,  7, 15,  5, 10, 16, 11, 15, 18,  2, 16,  1, 11,  7, 15, 10,\n",
              "       15,  4, 12, 15,  2,  3,  8, 15,  8,  2,  4, 18, 10,  0, 17, 11, 10,\n",
              "        4, 15, 11,  7, 16,  3, 13,  8,  9,  8, 10,  2,  0,  2,  6, 16, 18,\n",
              "       12,  2,  4, 11,  5, 16,  8,  4,  5,  8,  0,  2,  3,  7,  8, 16, 16,\n",
              "       15, 12,  6, 12, 18,  0, 12, 11,  1, 11, 13,  1, 11,  0, 12,  1, 16,\n",
              "       13,  7, 12,  4,  0, 15,  5,  8, 15,  1, 11, 18, 15, 16, 12,  2, 14,\n",
              "       11, 15,  4, 15,  1, 15,  3,  7, 10,  5,  4, 12, 16,  9,  4, 16, 17,\n",
              "       11,  0,  5, 16,  1, 15, 13, 13,  0, 13,  1,  3, 14, 13,  8,  8,  9,\n",
              "        0,  2,  6, 14,  4, 18, 15, 15, 12, 15,  3,  2, 18,  1, 16, 12,  7,\n",
              "       18, 16, 15, 16, 12,  6,  5, 10,  5, 12,  5, 12, 10, 18,  8, 16,  6,\n",
              "       15, 10, 14, 14,  4, 17,  1,  7, 15, 10,  9, 16, 11,  8,  5, 12, 15,\n",
              "       16, 18, 16, 11,  6,  9, 10, 15, 10,  0, 17,  8, 13,  1,  2,  5, 10,\n",
              "        9, 13,  6, 14, 13,  2, 10,  5, 15, 16,  5, 15, 10,  9,  9, 10,  9,\n",
              "        8, 16, 11, 13, 15, 10, 18,  4,  3, 13,  2,  7, 17, 14,  2,  4,  4,\n",
              "       14, 15,  6,  2, 15, 12,  0, 16, 12,  8, 12,  8,  3,  7,  3,  4,  9,\n",
              "        4, 10,  6,  4,  9,  4, 11, 17,  7,  2, 12,  3, 18,  6,  7, 15,  4,\n",
              "       18, 14, 16,  6,  0, 17,  8, 17, 10,  2, 13, 16,  5,  0, 14, 14,  4,\n",
              "        9,  6,  4, 18, 14,  8, 12,  2,  7, 13,  1,  4,  5, 10, 18, 15,  0,\n",
              "        5,  0, 15,  8, 11, 12, 16,  1,  2, 14,  4, 17,  6,  7, 18, 17,  2,\n",
              "        1, 12,  4, 12,  7,  8, 11, 16,  8, 18, 16,  4,  0,  0, 17,  7,  5,\n",
              "        6, 11, 14,  7,  0, 14, 17,  4,  3, 17, 13, 18,  2, 12,  8, 15, 18,\n",
              "       12, 18,  1,  8,  1, 11, 12, 10,  0,  8, 13,  2, 11, 10, 15,  7, 15,\n",
              "        5,  3, 14, 15,  2,  8, 11,  7, 11, 18,  6, 17,  7,  1, 17,  2,  4,\n",
              "       15,  1,  7, 10,  7, 15, 14,  7, 15, 16,  2, 12,  5,  0, 14, 10, 11,\n",
              "       18, 14,  4, 14, 16, 12, 11, 11, 16,  7, 13, 14, 14, 12,  2, 16, 17,\n",
              "       15, 11, 16,  2, 18, 17,  9,  5, 15, 13, 13,  4,  5,  7, 10,  9,  6,\n",
              "       12, 17,  7, 10,  7, 14,  1, 18,  1,  7, 11,  6, 16, 10,  2, 17,  3,\n",
              "       18,  1, 18, 15,  2,  8, 17,  7,  2, 14,  3, 13,  1, 16, 15,  0,  1,\n",
              "       18, 10,  2, 14, 11, 18,  5, 16, 13, 11, 15,  0,  0, 17, 15,  3, 12,\n",
              "        1,  4, 15, 15, 12, 11, 16, 12, 17,  8,  1, 10, 15, 14, 11, 14, 11,\n",
              "       18, 14,  1, 12,  4,  5, 18,  9,  2,  1, 11,  1, 18,  8,  4,  6, 18,\n",
              "        8,  3, 12, 18, 10, 10,  9, 12, 13,  5,  3,  3,  8, 18,  4, 12,  7,\n",
              "       16,  6,  4, 12,  2, 14, 16, 12,  4, 11, 10, 10, 12,  8, 16,  9, 16,\n",
              "        7,  5,  4, 18, 16,  8,  9, 14,  3,  9,  4,  3,  2, 16, 14,  4, 16,\n",
              "       15,  3, 18, 11,  2, 17, 18,  7,  6,  6, 15,  4,  0,  8, 15, 11,  1,\n",
              "        8, 18,  3,  4,  2, 15, 14, 17,  0,  7, 11,  7, 17, 13,  2, 15,  5,\n",
              "        4,  9, 10, 16,  8, 17,  1, 16, 18,  4, 16,  4,  7,  8,  2,  6, 17,\n",
              "       12, 16,  8, 11, 12, 15, 11, 16,  7, 12, 17, 18,  4, 16, 18,  7,  5,\n",
              "        2, 17,  6,  7, 18, 10,  3, 15,  5, 15, 16, 10, 12, 12,  9, 12,  0,\n",
              "        7, 13,  7,  3, 16, 12, 17,  6, 13, 17, 15, 13, 13, 15, 16,  7, 18,\n",
              "       16,  5,  8,  1,  1, 15,  3, 16,  5,  0, 10, 14, 16,  9, 15, 18, 13,\n",
              "       16,  1, 17, 12, 14,  4, 15, 12,  8, 13, 18,  8, 18, 17,  2,  7,  0,\n",
              "        1, 13,  5, 10, 15,  5,  5,  5, 16,  8,  4,  7, 14,  0,  8,  0,  7,\n",
              "       13,  1, 12,  8, 15, 11,  3, 15, 15,  6,  9, 15, 16, 10, 10,  1, 14,\n",
              "       15,  9,  2, 13, 17,  3,  7,  4, 15,  2, 16, 11, 13, 18, 18, 10, 12,\n",
              "        8, 10,  0,  5,  5, 18, 15,  2,  1, 14,  4,  6, 15, 11,  3,  7, 12,\n",
              "        1,  1,  8,  7, 13,  6,  6, 18, 16,  5,  5,  4,  0, 11,  2, 11, 18,\n",
              "       12, 15,  2,  9,  6,  4, 12,  4,  8,  8,  7,  7, 10,  6, 13, 11,  1,\n",
              "        7,  6, 13,  7,  2,  4,  2,  0,  8, 15,  7,  8,  8,  7,  5,  4, 17,\n",
              "       14,  6,  3,  8, 14, 10,  2, 10,  4,  2, 16,  6, 14, 11,  3, 18,  2,\n",
              "       11,  0, 15,  2,  5, 17,  0, 16, 10, 10,  3, 11,  1,  6, 16,  9,  8,\n",
              "        7, 15, 16,  6,  2, 10,  5, 12, 15, 11, 18,  0, 18, 10,  1,  2, 11,\n",
              "       15,  7,  5,  4, 14,  3,  3, 12, 10,  4,  0, 11, 16,  8,  4,  4, 17,\n",
              "       18,  2, 12,  6,  7,  0, 18,  0, 14, 15,  6,  5, 14, 14,  8, 11, 13,\n",
              "       18,  7, 18,  4,  5, 12, 13,  9,  5, 10,  1, 15,  8], dtype=int32)"
            ]
          },
          "metadata": {},
          "execution_count": 11
        }
      ]
    },
    {
      "cell_type": "code",
      "source": [
        "kmeansmodel.cluster_centers_"
      ],
      "metadata": {
        "id": "T99kR4GYyxa7",
        "colab": {
          "base_uri": "https://localhost:8080/"
        },
        "outputId": "a9cc3a08-6341-454b-80df-1e41bb5fe532"
      },
      "execution_count": 12,
      "outputs": [
        {
          "output_type": "execute_result",
          "data": {
            "text/plain": [
              "array([[0., 0., 0., ..., 0., 0., 0.],\n",
              "       [0., 0., 0., ..., 0., 0., 0.],\n",
              "       [0., 0., 0., ..., 0., 0., 0.],\n",
              "       ...,\n",
              "       [0., 0., 0., ..., 0., 0., 0.],\n",
              "       [0., 0., 0., ..., 0., 0., 0.],\n",
              "       [0., 0., 0., ..., 0., 0., 0.]])"
            ]
          },
          "metadata": {},
          "execution_count": 12
        }
      ]
    },
    {
      "cell_type": "code",
      "source": [
        "from collections import Counter\n",
        "Counter(kmeansmodel.labels_)"
      ],
      "metadata": {
        "id": "MZkuKLuyyxh9",
        "colab": {
          "base_uri": "https://localhost:8080/"
        },
        "outputId": "3a863e13-989d-4237-a8be-6a725d95f924"
      },
      "execution_count": 13,
      "outputs": [
        {
          "output_type": "execute_result",
          "data": {
            "text/plain": [
              "Counter({16: 69,\n",
              "         9: 31,\n",
              "         18: 69,\n",
              "         2: 59,\n",
              "         13: 40,\n",
              "         15: 82,\n",
              "         12: 66,\n",
              "         17: 38,\n",
              "         10: 54,\n",
              "         7: 60,\n",
              "         4: 64,\n",
              "         3: 39,\n",
              "         0: 41,\n",
              "         8: 57,\n",
              "         5: 48,\n",
              "         6: 39,\n",
              "         11: 56,\n",
              "         1: 43,\n",
              "         14: 44})"
            ]
          },
          "metadata": {},
          "execution_count": 13
        }
      ]
    },
    {
      "cell_type": "code",
      "source": [
        "f =pd.DataFrame(y_kmeans)\n",
        "f.rename(columns={0:\"label\"},inplace=True)\n",
        "f.insert(0,'ID',x)\n",
        "f.to_csv('predicted.csv',index = False)"
      ],
      "metadata": {
        "id": "2ZeSuMQnwPpx"
      },
      "execution_count": 14,
      "outputs": []
    }
  ]
}